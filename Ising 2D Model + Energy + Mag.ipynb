{
 "metadata": {
  "name": ""
 },
 "nbformat": 3,
 "nbformat_minor": 0,
 "worksheets": [
  {
   "cells": [
    {
     "cell_type": "code",
     "collapsed": false,
     "input": [
      "%pylab inline\n",
      "\n",
      "#################################################\n",
      "# First part:                                   #\n",
      "# Create a random configuration of spins in 2d  #\n",
      "#################################################\n",
      "\n",
      "J = 1.0\n",
      "N = 50  # Length of the grid\n",
      "spin=zeros([N,N],dtype=int)\n",
      "spin0=zeros([N,N],dtype=int)"
     ],
     "language": "python",
     "metadata": {},
     "outputs": [
      {
       "output_type": "stream",
       "stream": "stdout",
       "text": [
        "Populating the interactive namespace from numpy and matplotlib\n"
       ]
      }
     ],
     "prompt_number": 1
    },
    {
     "cell_type": "code",
     "collapsed": false,
     "input": [
      "def Hamiltonian(matrix):\n",
      "    Hamilton = 0\n",
      "    \n",
      "    for n in range(N):\n",
      "        for m in range(N):\n",
      "            \n",
      "            if n == 0: #Condici\u00f3n de borde\n",
      "                Hamilton += -J* matrix[n,m]* matrix[N-1,m]\n",
      "            else:    #Normal\n",
      "                Hamilton += -J* matrix[n,m]* matrix[n-1,m]\n",
      "            \n",
      "            if m == 0: #Condici\u00f3n de borde\n",
      "                Hamilton += -J* matrix[n,m]* matrix[n,N-1]\n",
      "            else:    #Normal\n",
      "                Hamilton += -J* matrix[n,m]* matrix[n,m-1]\n",
      "            \n",
      "            if n+1 == N:#Condici\u00f3n de borde\n",
      "                Hamilton += -J* matrix[n,m]* matrix[0,m]\n",
      "            else:    #Normal\n",
      "                Hamilton += -J* matrix[n,m]* matrix[n+1,m]\n",
      "                \n",
      "            if m+1 == N:#Condici\u00f3n de borde\n",
      "                Hamilton += -J* matrix[n,m]* matrix[0,m]\n",
      "            else:    #Normal\n",
      "                Hamilton += -J* matrix[n,m]* matrix[n,m+1]\n",
      "                \n",
      "    return Hamilton/2\n",
      "\n",
      "def HamiltonianIF(matrix,n,m):\n",
      "    Hamilton = 0\n",
      "    \n",
      "    if n == 0: #Condici\u00f3n de borde\n",
      "        Hamilton -= -J* matrix[n,m]* matrix[N-1,m]\n",
      "    else:    #Normal\n",
      "        Hamilton -= -J* matrix[n,m]* matrix[n-1,m]\n",
      "            \n",
      "    if m == 0: #Condici\u00f3n de borde\n",
      "        Hamilton -= -J* matrix[n,m]* matrix[n,N-1]\n",
      "    else:    #Normal\n",
      "        Hamilton -= -J* matrix[n,m]* matrix[n,m-1]\n",
      "            \n",
      "    if n+1 == N:#Condici\u00f3n de borde\n",
      "        Hamilton -= -J* matrix[n,m]* matrix[0,m]\n",
      "    else:    #Normal\n",
      "        Hamilton -= -J* matrix[n,m]* matrix[n+1,m]\n",
      "                \n",
      "    if m+1 == N:#Condici\u00f3n de borde\n",
      "        Hamilton -= -J* matrix[n,m]* matrix[0,m]\n",
      "    else:    #Normal\n",
      "        Hamilton -= -J* matrix[n,m]* matrix[n,m+1]\n",
      "    \n",
      "    return Hamilton\n",
      "\n",
      "def Magnetization(matrix):\n",
      "    Mag = 0\n",
      "    for n in range(N):\n",
      "        for m in range(N):\n",
      "            Mag += matrix[n,m]\n",
      "    Mag /= N*N\n",
      "    return Mag\n",
      "    \n",
      "def Suceptibility(matrix):\n",
      "    Suc = 0\n",
      "    Mag = Magnetization(matrix)\n",
      "    for n in range(N):\n",
      "        for m in range(N):\n",
      "            Suc += (matrix[n,m] - Mag)**2\n",
      "    Suc /= N**2 -1\n",
      "    Suc = Suc**0.5\n",
      "    return Suc"
     ],
     "language": "python",
     "metadata": {},
     "outputs": [],
     "prompt_number": 2
    },
    {
     "cell_type": "code",
     "collapsed": false,
     "input": [
      "seed(0)\n",
      "STEPS = 100000  #N\u00famero de pasos en la simulaci\u00f3n\n",
      "Beta = 10000    #Temperatura inversa\n",
      "seed(0) #Semilla del generador de n\u00fameros aleatorios\n",
      "\n",
      "for n in range(N):        #Arranca la matriz con spines aleatorios\n",
      "    for m in range(N):\n",
      "        spin[n,m]=(-1)**(int(2*random.random_sample()))\n",
      "        spin0[n,m]=spin[n,m]\n",
      "\n",
      "Energy_t = zeros([STEPS+1,1]) #Calcula la energ\u00eda inicial\n",
      "Energy_t[0] = Hamiltonian(spin)\n",
      "\n",
      "for counter in range(STEPS):\n",
      "    n = random.randint(0,N)\n",
      "    m = random.randint(0,N)\n",
      "    \n",
      "    if HamiltonianIF(spin,n,m)<0:\n",
      "        Energy_t[counter+1] = Energy_t[counter] + 2*HamiltonianIF(spin,n,m)\n",
      "        spin[n,m] *= (-1)\n",
      "    else:\n",
      "        p = random.sample()\n",
      "        if p < exp(-Beta*2*HamiltonianIF(spin,n,m)):\n",
      "            Energy_t[counter+1] = Energy_t[counter] + 2*HamiltonianIF(spin,n,m)\n",
      "            spin[n,m] *= (-1)\n",
      "        else:\n",
      "            Energy_t[counter+1] = Energy_t[counter]\n",
      "\n",
      "#Energy_t[STEPS+1] =  Hamiltonian(spin)"
     ],
     "language": "python",
     "metadata": {},
     "outputs": [],
     "prompt_number": 22
    },
    {
     "cell_type": "code",
     "collapsed": false,
     "input": [
      "seed(0)\n",
      "STEPS = 100000  #N\u00famero de pasos en la simulaci\u00f3n\n",
      "seed(0) #Semilla del generador de n\u00fameros aleatorios    \n",
      "\n",
      "Beta_Var = 20 # N\u00famero de pasos para variar Beta\n",
      "\n",
      "# Un arreglo que grabar\u00e1 para cada temperatura \n",
      "# la energ\u00eda, magnetizaci\u00f3n y suceptibilidad del\n",
      "# sistema.\n",
      "# Beta, Energy, Magnetization, Suceptibility\n",
      "Properties_Beta = zeros( [Beta_Var,4])\n",
      "\n",
      "\n",
      "Beta_counter=0\n",
      "for Beta in linspace(0.5,1.5,Beta_Var):\n",
      "\n",
      "    \n",
      "    for n in range(N):        #Arranca la matriz con spines aleatorios\n",
      "        for m in range(N):    \n",
      "            spin[n,m]=(-1)**(int(2*random.random_sample()))\n",
      "            spin0[n,m]=spin[n,m]\n",
      "    #Hamiltonian(spin) # Energia inicial del sistema\n",
      "    \n",
      "    for counter in range(STEPS):\n",
      "        n = random.randint(0,N)\n",
      "        m = random.randint(0,N)\n",
      "    \n",
      "        if HamiltonianIF(spin,n,m)<0:\n",
      "            Energy_t[counter+1] = Energy_t[counter] + 2*HamiltonianIF(spin,n,m)\n",
      "            spin[n,m] *= (-1)\n",
      "        else:\n",
      "            p = random.sample()\n",
      "            if p < exp(-Beta*2*HamiltonianIF(spin,n,m)):\n",
      "                Energy_t[counter+1] = Energy_t[counter] + 2*HamiltonianIF(spin,n,m)\n",
      "                spin[n,m] *= (-1)\n",
      "            else:\n",
      "                Energy_t[counter+1] = Energy_t[counter]\n",
      "    Properties_Beta[Beta_counter,0] = Beta\n",
      "    Properties_Beta[Beta_counter,1] = Hamiltonian(spin)\n",
      "    Properties_Beta[Beta_counter,2] = Magnetization(spin)\n",
      "    Properties_Beta[Beta_counter,3] = Suceptibility(spin)\n",
      "    \n",
      "    Beta_counter +=1\n"
     ],
     "language": "python",
     "metadata": {},
     "outputs": [],
     "prompt_number": 73
    },
    {
     "cell_type": "code",
     "collapsed": false,
     "input": [
      "plot(Properties_Beta[:,0],Properties_Beta[:,1],'b-o')\n",
      "xlabel(r'$\\beta$')\n",
      "ylabel(\"Energia\")\n",
      "axis([0.4,1.6, -5100, -3600])"
     ],
     "language": "python",
     "metadata": {},
     "outputs": [
      {
       "metadata": {},
       "output_type": "pyout",
       "prompt_number": 74,
       "text": [
        "[0.4, 1.6, -5100, -3600]"
       ]
      },
      {
       "metadata": {},
       "output_type": "display_data",
       "png": "[encoded data removed]",
       "text": [
        "<matplotlib.figure.Figure at 0x9d51050>"
       ]
      }
     ],
     "prompt_number": 74
    },
    {
     "cell_type": "code",
     "collapsed": false,
     "input": [
      "plot(Properties_Beta[:,0],Properties_Beta[:,2],'b-o')\n",
      "xlabel(r'$\\beta$')\n",
      "ylabel(\"Magnetizacion\")\n",
      "axis([0.4,1.6, -1.1, 1.1])"
     ],
     "language": "python",
     "metadata": {},
     "outputs": [
      {
       "metadata": {},
       "output_type": "pyout",
       "prompt_number": 78,
       "text": [
        "[0.4, 1.6, -1.1, 1.1]"
       ]
      },
      {
       "metadata": {},
       "output_type": "display_data",
       "png": "[encoded data removed]",
       "text": [
        "<matplotlib.figure.Figure at 0xa0c9f50>"
       ]
      }
     ],
     "prompt_number": 78
    },
    {
     "cell_type": "code",
     "collapsed": false,
     "input": [
      "plot(Properties_Beta[:,0],Properties_Beta[:,3],'b-o')\n",
      "xlabel(r'$\\beta$')\n",
      "ylabel(\"Suceptibilidad\")\n",
      "axis([0.4,1.6, -0.1, 1.1])"
     ],
     "language": "python",
     "metadata": {},
     "outputs": [
      {
       "metadata": {},
       "output_type": "pyout",
       "prompt_number": 76,
       "text": [
        "[0.4, 1.6, -0.1, 1.1]"
       ]
      },
      {
       "metadata": {},
       "output_type": "display_data",
       "png": "[encoded data removed]",
       "text": [
        "<matplotlib.figure.Figure at 0xa0aae90>"
       ]
      }
     ],
     "prompt_number": 76
    },
    {
     "cell_type": "code",
     "collapsed": false,
     "input": [
      "print Properties_Beta"
     ],
     "language": "python",
     "metadata": {},
     "outputs": [
      {
       "output_type": "stream",
       "stream": "stdout",
       "text": [
        "[[  5.00000000e-01  -3.72300000e+03   0.00000000e+00   1.00000000e+00]\n",
        " [  5.52631579e-01  -3.78900000e+03   0.00000000e+00   1.00000000e+00]\n",
        " [  6.05263158e-01  -4.18800000e+03  -1.00000000e+00   1.00000000e+00]\n",
        " [  6.57894737e-01  -4.38800000e+03  -1.00000000e+00   1.00000000e+00]\n",
        " [  7.10526316e-01  -4.44800000e+03  -1.00000000e+00   1.00000000e+00]\n",
        " [  7.63157895e-01  -4.36000000e+03  -1.00000000e+00   1.00000000e+00]\n",
        " [  8.15789474e-01  -4.42400000e+03   0.00000000e+00   1.00000000e+00]\n",
        " [  8.68421053e-01  -4.53200000e+03  -1.00000000e+00   1.00000000e+00]\n",
        " [  9.21052632e-01  -4.55700000e+03  -1.00000000e+00   1.00000000e+00]\n",
        " [  9.73684211e-01  -4.49600000e+03   0.00000000e+00   1.00000000e+00]\n",
        " [  1.02631579e+00  -4.50600000e+03  -1.00000000e+00   1.00000000e+00]\n",
        " [  1.07894737e+00  -4.52800000e+03  -1.00000000e+00   1.00000000e+00]\n",
        " [  1.13157895e+00  -4.56400000e+03  -1.00000000e+00   1.00000000e+00]\n",
        " [  1.18421053e+00  -4.56000000e+03  -1.00000000e+00   1.00000000e+00]\n",
        " [  1.23684211e+00  -4.57600000e+03   0.00000000e+00   1.00000000e+00]\n",
        " [  1.28947368e+00  -4.58800000e+03   0.00000000e+00   1.00000000e+00]\n",
        " [  1.34210526e+00  -4.59600000e+03   0.00000000e+00   1.00000000e+00]\n",
        " [  1.39473684e+00  -4.61600000e+03   0.00000000e+00   1.00000000e+00]\n",
        " [  1.44736842e+00  -4.64800000e+03   0.00000000e+00   1.00000000e+00]\n",
        " [  1.50000000e+00  -4.64800000e+03   0.00000000e+00   1.00000000e+00]]\n"
       ]
      }
     ],
     "prompt_number": 77
    },
    {
     "cell_type": "code",
     "collapsed": false,
     "input": [],
     "language": "python",
     "metadata": {},
     "outputs": []
    }
   ],
   "metadata": {}
  }
 ]
}