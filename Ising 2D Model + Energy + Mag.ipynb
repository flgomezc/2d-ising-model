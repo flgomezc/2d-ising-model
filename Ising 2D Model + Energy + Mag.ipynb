{
 "metadata": {
  "name": ""
 },
 "nbformat": 3,
 "nbformat_minor": 0,
 "worksheets": [
  {
   "cells": [
    {
     "cell_type": "code",
     "collapsed": false,
     "input": [
      "%pylab inline\n",
      "\n",
      "#################################################\n",
      "# First part:                                   #\n",
      "# Create a random configuration of spins in 2d  #\n",
      "#################################################\n",
      "\n",
      "J = 1.0\n",
      "N = 50  # Length of the grid\n",
      "spin=zeros([N,N],dtype=int)\n",
      "spin0=zeros([N,N],dtype=int)"
     ],
     "language": "python",
     "metadata": {},
     "outputs": [
      {
       "output_type": "stream",
       "stream": "stdout",
       "text": [
        "Populating the interactive namespace from numpy and matplotlib\n"
       ]
      }
     ],
     "prompt_number": 1
    },
    {
     "cell_type": "code",
     "collapsed": false,
     "input": [
      "def Hamiltonian(matrix):\n",
      "    Hamilton = 0\n",
      "    \n",
      "    for n in range(N):\n",
      "        for m in range(N):\n",
      "            \n",
      "            if n == 0: #Condici\u00f3n de borde\n",
      "                Hamilton += -J* matrix[n,m]* matrix[N-1,m]\n",
      "            else:    #Normal\n",
      "                Hamilton += -J* matrix[n,m]* matrix[n-1,m]\n",
      "            \n",
      "            if m == 0: #Condici\u00f3n de borde\n",
      "                Hamilton += -J* matrix[n,m]* matrix[n,N-1]\n",
      "            else:    #Normal\n",
      "                Hamilton += -J* matrix[n,m]* matrix[n,m-1]\n",
      "            \n",
      "            if n+1 == N:#Condici\u00f3n de borde\n",
      "                Hamilton += -J* matrix[n,m]* matrix[0,m]\n",
      "            else:    #Normal\n",
      "                Hamilton += -J* matrix[n,m]* matrix[n+1,m]\n",
      "                \n",
      "            if m+1 == N:#Condici\u00f3n de borde\n",
      "                Hamilton += -J* matrix[n,m]* matrix[0,m]\n",
      "            else:    #Normal\n",
      "                Hamilton += -J* matrix[n,m]* matrix[n,m+1]\n",
      "                \n",
      "    return Hamilton/2\n",
      "\n",
      "def HamiltonianIF(matrix,n,m):\n",
      "    Hamilton = 0\n",
      "    \n",
      "    if n == 0: #Condici\u00f3n de borde\n",
      "        Hamilton -= -J* matrix[n,m]* matrix[N-1,m]\n",
      "    else:    #Normal\n",
      "        Hamilton -= -J* matrix[n,m]* matrix[n-1,m]\n",
      "            \n",
      "    if m == 0: #Condici\u00f3n de borde\n",
      "        Hamilton -= -J* matrix[n,m]* matrix[n,N-1]\n",
      "    else:    #Normal\n",
      "        Hamilton -= -J* matrix[n,m]* matrix[n,m-1]\n",
      "            \n",
      "    if n+1 == N:#Condici\u00f3n de borde\n",
      "        Hamilton -= -J* matrix[n,m]* matrix[0,m]\n",
      "    else:    #Normal\n",
      "        Hamilton -= -J* matrix[n,m]* matrix[n+1,m]\n",
      "                \n",
      "    if m+1 == N:#Condici\u00f3n de borde\n",
      "        Hamilton -= -J* matrix[n,m]* matrix[0,m]\n",
      "    else:    #Normal\n",
      "        Hamilton -= -J* matrix[n,m]* matrix[n,m+1]\n",
      "    \n",
      "    return Hamilton\n",
      "\n",
      "def Magnetization(matrix):\n",
      "    Mag = 0.0\n",
      "    for n in range(N):\n",
      "        for m in range(N):\n",
      "            Mag += matrix[n,m]\n",
      "    Mag /= N*N\n",
      "    return Mag\n",
      "    \n",
      "def Suceptibility(matrix):\n",
      "    Suc = 0.0\n",
      "    Mag = Magnetization(matrix)\n",
      "    for n in range(N):\n",
      "        for m in range(N):\n",
      "            Suc += (matrix[n,m] - Mag)**2\n",
      "    Suc /= N**2 -1.0\n",
      "    Suc = Suc**0.5\n",
      "    return Suc"
     ],
     "language": "python",
     "metadata": {},
     "outputs": [],
     "prompt_number": 18
    },
    {
     "cell_type": "code",
     "collapsed": false,
     "input": [
      "seed(0)\n",
      "STEPS = 100000  #N\u00famero de pasos en la simulaci\u00f3n\n",
      "Beta = 0.9   #Temperatura inversa\n",
      "seed(99) #Semilla del generador de n\u00fameros aleatorios\n",
      "\n",
      "for n in range(N):        #Arranca la matriz con spines aleatorios\n",
      "    for m in range(N):\n",
      "        spin[n,m]=(-1)**(int(2*random.random_sample()))\n",
      "        spin0[n,m]=spin[n,m]\n",
      "\n",
      "Energy_t = zeros([STEPS+1,1]) #Calcula la energ\u00eda inicial\n",
      "Energy_t[0] = Hamiltonian(spin)\n",
      "\n",
      "for counter in range(STEPS):\n",
      "    n = random.randint(0,N)\n",
      "    m = random.randint(0,N)\n",
      "    \n",
      "    if HamiltonianIF(spin,n,m)<0:\n",
      "        Energy_t[counter+1] = Energy_t[counter] + 2*HamiltonianIF(spin,n,m)\n",
      "        spin[n,m] *= (-1)\n",
      "    else:\n",
      "        p = random.sample()\n",
      "        if p < exp(-Beta*2*HamiltonianIF(spin,n,m)):\n",
      "            Energy_t[counter+1] = Energy_t[counter] + 2*HamiltonianIF(spin,n,m)\n",
      "            spin[n,m] *= (-1)\n",
      "        else:\n",
      "            Energy_t[counter+1] = Energy_t[counter]\n",
      "\n",
      "#Energy_t[STEPS+1] =  Hamiltonian(spin)"
     ],
     "language": "python",
     "metadata": {},
     "outputs": [],
     "prompt_number": 3
    },
    {
     "cell_type": "code",
     "collapsed": false,
     "input": [
      "Magnetization(spin)"
     ],
     "language": "python",
     "metadata": {},
     "outputs": [
      {
       "metadata": {},
       "output_type": "pyout",
       "prompt_number": 4,
       "text": [
        "0.12959999999999999"
       ]
      }
     ],
     "prompt_number": 4
    },
    {
     "cell_type": "code",
     "collapsed": false,
     "input": [
      "imshow(spin)"
     ],
     "language": "python",
     "metadata": {},
     "outputs": [
      {
       "metadata": {},
       "output_type": "pyout",
       "prompt_number": 5,
       "text": [
        "<matplotlib.image.AxesImage at 0x2946dd0>"
       ]
      },
      {
       "metadata": {},
       "output_type": "display_data",
       "png": "[encoded data removed]",
       "text": [
        "<matplotlib.figure.Figure at 0x28ace50>"
       ]
      }
     ],
     "prompt_number": 5
    },
    {
     "cell_type": "code",
     "collapsed": false,
     "input": [
      "imshow(spin0)"
     ],
     "language": "python",
     "metadata": {},
     "outputs": [
      {
       "metadata": {},
       "output_type": "pyout",
       "prompt_number": 6,
       "text": [
        "<matplotlib.image.AxesImage at 0x2d12a90>"
       ]
      },
      {
       "metadata": {},
       "output_type": "display_data",
       "png": "[encoded data removed]",
       "text": [
        "<matplotlib.figure.Figure at 0x292e5d0>"
       ]
      }
     ],
     "prompt_number": 6
    },
    {
     "cell_type": "code",
     "collapsed": false,
     "input": [
      "seed(0)\n",
      "STEPS = 100000  #N\u00famero de pasos en la simulaci\u00f3n\n",
      "seed(0) #Semilla del generador de n\u00fameros aleatorios    \n",
      "\n",
      "Beta_Var = 200 # N\u00famero de pasos para variar Beta\n",
      "\n",
      "# Un arreglo que grabar\u00e1 para cada temperatura \n",
      "# la energ\u00eda, magnetizaci\u00f3n y suceptibilidad del\n",
      "# sistema.\n",
      "# Beta, Energy, Magnetization, Suceptibility\n",
      "Properties_Beta = zeros( [Beta_Var,4])\n",
      "\n",
      "\n",
      "Beta_counter=0\n",
      "for Beta in linspace(0.0,2.0,Beta_Var):\n",
      "\n",
      "    \n",
      "    for n in range(N):        #Arranca la matriz con spines aleatorios\n",
      "        for m in range(N):    \n",
      "            spin[n,m]=(-1)**(int(2*random.random_sample()))\n",
      "            spin0[n,m]=spin[n,m]\n",
      "    #Hamiltonian(spin) # Energia inicial del sistema\n",
      "    \n",
      "    for counter in range(STEPS):\n",
      "        n = random.randint(0,N)\n",
      "        m = random.randint(0,N)\n",
      "    \n",
      "        if HamiltonianIF(spin,n,m)<0:\n",
      "            Energy_t[counter+1] = Energy_t[counter] + 2*HamiltonianIF(spin,n,m)\n",
      "            spin[n,m] *= (-1)\n",
      "        else:\n",
      "            p = random.sample()\n",
      "            if p < exp(-Beta*2*HamiltonianIF(spin,n,m)):\n",
      "                Energy_t[counter+1] = Energy_t[counter] + 2*HamiltonianIF(spin,n,m)\n",
      "                spin[n,m] *= (-1)\n",
      "            else:\n",
      "                Energy_t[counter+1] = Energy_t[counter]\n",
      "    Properties_Beta[Beta_counter,0] = Beta\n",
      "    Properties_Beta[Beta_counter,1] = Hamiltonian(spin)\n",
      "    Properties_Beta[Beta_counter,2] = Magnetization(spin)\n",
      "    Properties_Beta[Beta_counter,3] = Suceptibility(spin)\n",
      "    \n",
      "    print Beta_counter\n",
      "    Beta_counter +=1\n"
     ],
     "language": "python",
     "metadata": {},
     "outputs": [
      {
       "output_type": "stream",
       "stream": "stdout",
       "text": [
        "0\n",
        "1"
       ]
      },
      {
       "output_type": "stream",
       "stream": "stdout",
       "text": [
        "\n",
        "2"
       ]
      },
      {
       "output_type": "stream",
       "stream": "stdout",
       "text": [
        "\n",
        "3"
       ]
      },
      {
       "output_type": "stream",
       "stream": "stdout",
       "text": [
        "\n",
        "4"
       ]
      },
      {
       "output_type": "stream",
       "stream": "stdout",
       "text": [
        "\n",
        "5"
       ]
      },
      {
       "output_type": "stream",
       "stream": "stdout",
       "text": [
        "\n",
        "6"
       ]
      },
      {
       "output_type": "stream",
       "stream": "stdout",
       "text": [
        "\n",
        "7"
       ]
      },
      {
       "output_type": "stream",
       "stream": "stdout",
       "text": [
        "\n",
        "8"
       ]
      },
      {
       "output_type": "stream",
       "stream": "stdout",
       "text": [
        "\n",
        "9"
       ]
      },
      {
       "output_type": "stream",
       "stream": "stdout",
       "text": [
        "\n",
        "10"
       ]
      },
      {
       "output_type": "stream",
       "stream": "stdout",
       "text": [
        "\n",
        "11"
       ]
      },
      {
       "output_type": "stream",
       "stream": "stdout",
       "text": [
        "\n",
        "12"
       ]
      },
      {
       "output_type": "stream",
       "stream": "stdout",
       "text": [
        "\n",
        "13"
       ]
      },
      {
       "output_type": "stream",
       "stream": "stdout",
       "text": [
        "\n",
        "14"
       ]
      },
      {
       "output_type": "stream",
       "stream": "stdout",
       "text": [
        "\n",
        "15"
       ]
      },
      {
       "output_type": "stream",
       "stream": "stdout",
       "text": [
        "\n",
        "16"
       ]
      },
      {
       "output_type": "stream",
       "stream": "stdout",
       "text": [
        "\n",
        "17"
       ]
      },
      {
       "output_type": "stream",
       "stream": "stdout",
       "text": [
        "\n",
        "18"
       ]
      },
      {
       "output_type": "stream",
       "stream": "stdout",
       "text": [
        "\n",
        "19"
       ]
      },
      {
       "output_type": "stream",
       "stream": "stdout",
       "text": [
        "\n",
        "20"
       ]
      },
      {
       "output_type": "stream",
       "stream": "stdout",
       "text": [
        "\n",
        "21"
       ]
      },
      {
       "output_type": "stream",
       "stream": "stdout",
       "text": [
        "\n",
        "22"
       ]
      },
      {
       "output_type": "stream",
       "stream": "stdout",
       "text": [
        "\n",
        "23"
       ]
      },
      {
       "output_type": "stream",
       "stream": "stdout",
       "text": [
        "\n",
        "24"
       ]
      },
      {
       "output_type": "stream",
       "stream": "stdout",
       "text": [
        "\n",
        "25"
       ]
      },
      {
       "output_type": "stream",
       "stream": "stdout",
       "text": [
        "\n",
        "26"
       ]
      },
      {
       "output_type": "stream",
       "stream": "stdout",
       "text": [
        "\n",
        "27"
       ]
      },
      {
       "output_type": "stream",
       "stream": "stdout",
       "text": [
        "\n",
        "28"
       ]
      },
      {
       "output_type": "stream",
       "stream": "stdout",
       "text": [
        "\n",
        "29"
       ]
      },
      {
       "output_type": "stream",
       "stream": "stdout",
       "text": [
        "\n",
        "30"
       ]
      },
      {
       "output_type": "stream",
       "stream": "stdout",
       "text": [
        "\n",
        "31"
       ]
      },
      {
       "output_type": "stream",
       "stream": "stdout",
       "text": [
        "\n",
        "32"
       ]
      },
      {
       "output_type": "stream",
       "stream": "stdout",
       "text": [
        "\n",
        "33"
       ]
      },
      {
       "output_type": "stream",
       "stream": "stdout",
       "text": [
        "\n",
        "34"
       ]
      },
      {
       "output_type": "stream",
       "stream": "stdout",
       "text": [
        "\n",
        "35"
       ]
      },
      {
       "output_type": "stream",
       "stream": "stdout",
       "text": [
        "\n",
        "36"
       ]
      },
      {
       "output_type": "stream",
       "stream": "stdout",
       "text": [
        "\n",
        "37"
       ]
      },
      {
       "output_type": "stream",
       "stream": "stdout",
       "text": [
        "\n",
        "38"
       ]
      },
      {
       "output_type": "stream",
       "stream": "stdout",
       "text": [
        "\n",
        "39"
       ]
      },
      {
       "output_type": "stream",
       "stream": "stdout",
       "text": [
        "\n",
        "40"
       ]
      },
      {
       "output_type": "stream",
       "stream": "stdout",
       "text": [
        "\n",
        "41"
       ]
      },
      {
       "output_type": "stream",
       "stream": "stdout",
       "text": [
        "\n",
        "42"
       ]
      },
      {
       "output_type": "stream",
       "stream": "stdout",
       "text": [
        "\n",
        "43"
       ]
      },
      {
       "output_type": "stream",
       "stream": "stdout",
       "text": [
        "\n",
        "44"
       ]
      },
      {
       "output_type": "stream",
       "stream": "stdout",
       "text": [
        "\n",
        "45"
       ]
      },
      {
       "output_type": "stream",
       "stream": "stdout",
       "text": [
        "\n",
        "46"
       ]
      },
      {
       "output_type": "stream",
       "stream": "stdout",
       "text": [
        "\n",
        "47"
       ]
      },
      {
       "output_type": "stream",
       "stream": "stdout",
       "text": [
        "\n",
        "48"
       ]
      },
      {
       "output_type": "stream",
       "stream": "stdout",
       "text": [
        "\n",
        "49"
       ]
      },
      {
       "output_type": "stream",
       "stream": "stdout",
       "text": [
        "\n",
        "50"
       ]
      },
      {
       "output_type": "stream",
       "stream": "stdout",
       "text": [
        "\n",
        "51"
       ]
      },
      {
       "output_type": "stream",
       "stream": "stdout",
       "text": [
        "\n",
        "52"
       ]
      },
      {
       "output_type": "stream",
       "stream": "stdout",
       "text": [
        "\n",
        "53"
       ]
      },
      {
       "output_type": "stream",
       "stream": "stdout",
       "text": [
        "\n",
        "54"
       ]
      },
      {
       "output_type": "stream",
       "stream": "stdout",
       "text": [
        "\n",
        "55"
       ]
      },
      {
       "output_type": "stream",
       "stream": "stdout",
       "text": [
        "\n",
        "56"
       ]
      },
      {
       "output_type": "stream",
       "stream": "stdout",
       "text": [
        "\n",
        "57"
       ]
      },
      {
       "output_type": "stream",
       "stream": "stdout",
       "text": [
        "\n",
        "58"
       ]
      },
      {
       "output_type": "stream",
       "stream": "stdout",
       "text": [
        "\n",
        "59"
       ]
      },
      {
       "output_type": "stream",
       "stream": "stdout",
       "text": [
        "\n",
        "60"
       ]
      },
      {
       "output_type": "stream",
       "stream": "stdout",
       "text": [
        "\n",
        "61"
       ]
      },
      {
       "output_type": "stream",
       "stream": "stdout",
       "text": [
        "\n",
        "62"
       ]
      },
      {
       "output_type": "stream",
       "stream": "stdout",
       "text": [
        "\n",
        "63"
       ]
      },
      {
       "output_type": "stream",
       "stream": "stdout",
       "text": [
        "\n",
        "64"
       ]
      },
      {
       "output_type": "stream",
       "stream": "stdout",
       "text": [
        "\n",
        "65"
       ]
      },
      {
       "output_type": "stream",
       "stream": "stdout",
       "text": [
        "\n",
        "66"
       ]
      },
      {
       "output_type": "stream",
       "stream": "stdout",
       "text": [
        "\n",
        "67"
       ]
      },
      {
       "output_type": "stream",
       "stream": "stdout",
       "text": [
        "\n",
        "68"
       ]
      },
      {
       "output_type": "stream",
       "stream": "stdout",
       "text": [
        "\n",
        "69"
       ]
      },
      {
       "output_type": "stream",
       "stream": "stdout",
       "text": [
        "\n",
        "70"
       ]
      },
      {
       "output_type": "stream",
       "stream": "stdout",
       "text": [
        "\n",
        "71"
       ]
      },
      {
       "output_type": "stream",
       "stream": "stdout",
       "text": [
        "\n",
        "72"
       ]
      },
      {
       "output_type": "stream",
       "stream": "stdout",
       "text": [
        "\n",
        "73"
       ]
      },
      {
       "output_type": "stream",
       "stream": "stdout",
       "text": [
        "\n",
        "74"
       ]
      },
      {
       "output_type": "stream",
       "stream": "stdout",
       "text": [
        "\n",
        "75"
       ]
      },
      {
       "output_type": "stream",
       "stream": "stdout",
       "text": [
        "\n",
        "76"
       ]
      },
      {
       "output_type": "stream",
       "stream": "stdout",
       "text": [
        "\n",
        "77"
       ]
      },
      {
       "output_type": "stream",
       "stream": "stdout",
       "text": [
        "\n",
        "78"
       ]
      },
      {
       "output_type": "stream",
       "stream": "stdout",
       "text": [
        "\n",
        "79"
       ]
      },
      {
       "output_type": "stream",
       "stream": "stdout",
       "text": [
        "\n",
        "80"
       ]
      },
      {
       "output_type": "stream",
       "stream": "stdout",
       "text": [
        "\n",
        "81"
       ]
      },
      {
       "output_type": "stream",
       "stream": "stdout",
       "text": [
        "\n",
        "82"
       ]
      },
      {
       "output_type": "stream",
       "stream": "stdout",
       "text": [
        "\n",
        "83"
       ]
      },
      {
       "output_type": "stream",
       "stream": "stdout",
       "text": [
        "\n",
        "84"
       ]
      },
      {
       "output_type": "stream",
       "stream": "stdout",
       "text": [
        "\n",
        "85"
       ]
      },
      {
       "output_type": "stream",
       "stream": "stdout",
       "text": [
        "\n",
        "86"
       ]
      },
      {
       "output_type": "stream",
       "stream": "stdout",
       "text": [
        "\n",
        "87"
       ]
      },
      {
       "output_type": "stream",
       "stream": "stdout",
       "text": [
        "\n",
        "88"
       ]
      },
      {
       "output_type": "stream",
       "stream": "stdout",
       "text": [
        "\n",
        "89"
       ]
      },
      {
       "output_type": "stream",
       "stream": "stdout",
       "text": [
        "\n",
        "90"
       ]
      },
      {
       "output_type": "stream",
       "stream": "stdout",
       "text": [
        "\n",
        "91"
       ]
      },
      {
       "output_type": "stream",
       "stream": "stdout",
       "text": [
        "\n",
        "92"
       ]
      },
      {
       "output_type": "stream",
       "stream": "stdout",
       "text": [
        "\n",
        "93"
       ]
      },
      {
       "output_type": "stream",
       "stream": "stdout",
       "text": [
        "\n",
        "94"
       ]
      },
      {
       "output_type": "stream",
       "stream": "stdout",
       "text": [
        "\n",
        "95"
       ]
      },
      {
       "output_type": "stream",
       "stream": "stdout",
       "text": [
        "\n",
        "96"
       ]
      },
      {
       "output_type": "stream",
       "stream": "stdout",
       "text": [
        "\n",
        "97"
       ]
      },
      {
       "output_type": "stream",
       "stream": "stdout",
       "text": [
        "\n",
        "98"
       ]
      },
      {
       "output_type": "stream",
       "stream": "stdout",
       "text": [
        "\n",
        "99"
       ]
      },
      {
       "output_type": "stream",
       "stream": "stdout",
       "text": [
        "\n",
        "100"
       ]
      },
      {
       "output_type": "stream",
       "stream": "stdout",
       "text": [
        "\n",
        "101"
       ]
      },
      {
       "output_type": "stream",
       "stream": "stdout",
       "text": [
        "\n",
        "102"
       ]
      },
      {
       "output_type": "stream",
       "stream": "stdout",
       "text": [
        "\n",
        "103"
       ]
      },
      {
       "output_type": "stream",
       "stream": "stdout",
       "text": [
        "\n",
        "104"
       ]
      },
      {
       "output_type": "stream",
       "stream": "stdout",
       "text": [
        "\n",
        "105"
       ]
      },
      {
       "output_type": "stream",
       "stream": "stdout",
       "text": [
        "\n",
        "106"
       ]
      },
      {
       "output_type": "stream",
       "stream": "stdout",
       "text": [
        "\n",
        "107"
       ]
      },
      {
       "output_type": "stream",
       "stream": "stdout",
       "text": [
        "\n",
        "108"
       ]
      },
      {
       "output_type": "stream",
       "stream": "stdout",
       "text": [
        "\n",
        "109"
       ]
      },
      {
       "output_type": "stream",
       "stream": "stdout",
       "text": [
        "\n",
        "110"
       ]
      },
      {
       "output_type": "stream",
       "stream": "stdout",
       "text": [
        "\n",
        "111"
       ]
      },
      {
       "output_type": "stream",
       "stream": "stdout",
       "text": [
        "\n",
        "112"
       ]
      },
      {
       "output_type": "stream",
       "stream": "stdout",
       "text": [
        "\n",
        "113"
       ]
      },
      {
       "output_type": "stream",
       "stream": "stdout",
       "text": [
        "\n",
        "114"
       ]
      },
      {
       "output_type": "stream",
       "stream": "stdout",
       "text": [
        "\n",
        "115"
       ]
      },
      {
       "output_type": "stream",
       "stream": "stdout",
       "text": [
        "\n",
        "116"
       ]
      },
      {
       "output_type": "stream",
       "stream": "stdout",
       "text": [
        "\n",
        "117"
       ]
      },
      {
       "output_type": "stream",
       "stream": "stdout",
       "text": [
        "\n",
        "118"
       ]
      },
      {
       "output_type": "stream",
       "stream": "stdout",
       "text": [
        "\n",
        "119"
       ]
      },
      {
       "output_type": "stream",
       "stream": "stdout",
       "text": [
        "\n",
        "120"
       ]
      },
      {
       "output_type": "stream",
       "stream": "stdout",
       "text": [
        "\n",
        "121"
       ]
      },
      {
       "output_type": "stream",
       "stream": "stdout",
       "text": [
        "\n",
        "122"
       ]
      },
      {
       "output_type": "stream",
       "stream": "stdout",
       "text": [
        "\n",
        "123"
       ]
      },
      {
       "output_type": "stream",
       "stream": "stdout",
       "text": [
        "\n",
        "124"
       ]
      },
      {
       "output_type": "stream",
       "stream": "stdout",
       "text": [
        "\n",
        "125"
       ]
      },
      {
       "output_type": "stream",
       "stream": "stdout",
       "text": [
        "\n",
        "126"
       ]
      },
      {
       "output_type": "stream",
       "stream": "stdout",
       "text": [
        "\n",
        "127"
       ]
      },
      {
       "output_type": "stream",
       "stream": "stdout",
       "text": [
        "\n",
        "128"
       ]
      },
      {
       "output_type": "stream",
       "stream": "stdout",
       "text": [
        "\n",
        "129"
       ]
      },
      {
       "output_type": "stream",
       "stream": "stdout",
       "text": [
        "\n",
        "130"
       ]
      },
      {
       "output_type": "stream",
       "stream": "stdout",
       "text": [
        "\n",
        "131"
       ]
      },
      {
       "output_type": "stream",
       "stream": "stdout",
       "text": [
        "\n",
        "132"
       ]
      },
      {
       "output_type": "stream",
       "stream": "stdout",
       "text": [
        "\n",
        "133"
       ]
      },
      {
       "output_type": "stream",
       "stream": "stdout",
       "text": [
        "\n",
        "134"
       ]
      },
      {
       "output_type": "stream",
       "stream": "stdout",
       "text": [
        "\n",
        "135"
       ]
      },
      {
       "output_type": "stream",
       "stream": "stdout",
       "text": [
        "\n",
        "136"
       ]
      },
      {
       "output_type": "stream",
       "stream": "stdout",
       "text": [
        "\n",
        "137"
       ]
      },
      {
       "output_type": "stream",
       "stream": "stdout",
       "text": [
        "\n",
        "138"
       ]
      },
      {
       "output_type": "stream",
       "stream": "stdout",
       "text": [
        "\n",
        "139"
       ]
      },
      {
       "output_type": "stream",
       "stream": "stdout",
       "text": [
        "\n",
        "140"
       ]
      },
      {
       "output_type": "stream",
       "stream": "stdout",
       "text": [
        "\n",
        "141"
       ]
      },
      {
       "output_type": "stream",
       "stream": "stdout",
       "text": [
        "\n",
        "142"
       ]
      },
      {
       "output_type": "stream",
       "stream": "stdout",
       "text": [
        "\n",
        "143"
       ]
      },
      {
       "output_type": "stream",
       "stream": "stdout",
       "text": [
        "\n",
        "144"
       ]
      },
      {
       "output_type": "stream",
       "stream": "stdout",
       "text": [
        "\n",
        "145"
       ]
      },
      {
       "output_type": "stream",
       "stream": "stdout",
       "text": [
        "\n",
        "146"
       ]
      },
      {
       "output_type": "stream",
       "stream": "stdout",
       "text": [
        "\n",
        "147"
       ]
      },
      {
       "output_type": "stream",
       "stream": "stdout",
       "text": [
        "\n",
        "148"
       ]
      },
      {
       "output_type": "stream",
       "stream": "stdout",
       "text": [
        "\n",
        "149"
       ]
      },
      {
       "output_type": "stream",
       "stream": "stdout",
       "text": [
        "\n",
        "150"
       ]
      },
      {
       "output_type": "stream",
       "stream": "stdout",
       "text": [
        "\n",
        "151"
       ]
      },
      {
       "output_type": "stream",
       "stream": "stdout",
       "text": [
        "\n",
        "152"
       ]
      },
      {
       "output_type": "stream",
       "stream": "stdout",
       "text": [
        "\n",
        "153"
       ]
      },
      {
       "output_type": "stream",
       "stream": "stdout",
       "text": [
        "\n",
        "154"
       ]
      },
      {
       "output_type": "stream",
       "stream": "stdout",
       "text": [
        "\n",
        "155"
       ]
      },
      {
       "output_type": "stream",
       "stream": "stdout",
       "text": [
        "\n",
        "156"
       ]
      },
      {
       "output_type": "stream",
       "stream": "stdout",
       "text": [
        "\n",
        "157"
       ]
      },
      {
       "output_type": "stream",
       "stream": "stdout",
       "text": [
        "\n",
        "158"
       ]
      },
      {
       "output_type": "stream",
       "stream": "stdout",
       "text": [
        "\n",
        "159"
       ]
      },
      {
       "output_type": "stream",
       "stream": "stdout",
       "text": [
        "\n",
        "160"
       ]
      },
      {
       "output_type": "stream",
       "stream": "stdout",
       "text": [
        "\n",
        "161"
       ]
      },
      {
       "output_type": "stream",
       "stream": "stdout",
       "text": [
        "\n",
        "162"
       ]
      },
      {
       "output_type": "stream",
       "stream": "stdout",
       "text": [
        "\n",
        "163"
       ]
      },
      {
       "output_type": "stream",
       "stream": "stdout",
       "text": [
        "\n",
        "164"
       ]
      },
      {
       "output_type": "stream",
       "stream": "stdout",
       "text": [
        "\n",
        "165"
       ]
      },
      {
       "output_type": "stream",
       "stream": "stdout",
       "text": [
        "\n",
        "166"
       ]
      },
      {
       "output_type": "stream",
       "stream": "stdout",
       "text": [
        "\n",
        "167"
       ]
      },
      {
       "output_type": "stream",
       "stream": "stdout",
       "text": [
        "\n",
        "168"
       ]
      },
      {
       "output_type": "stream",
       "stream": "stdout",
       "text": [
        "\n",
        "169"
       ]
      },
      {
       "output_type": "stream",
       "stream": "stdout",
       "text": [
        "\n",
        "170"
       ]
      },
      {
       "output_type": "stream",
       "stream": "stdout",
       "text": [
        "\n",
        "171"
       ]
      },
      {
       "output_type": "stream",
       "stream": "stdout",
       "text": [
        "\n",
        "172"
       ]
      },
      {
       "output_type": "stream",
       "stream": "stdout",
       "text": [
        "\n",
        "173"
       ]
      },
      {
       "output_type": "stream",
       "stream": "stdout",
       "text": [
        "\n",
        "174"
       ]
      },
      {
       "output_type": "stream",
       "stream": "stdout",
       "text": [
        "\n",
        "175"
       ]
      },
      {
       "output_type": "stream",
       "stream": "stdout",
       "text": [
        "\n",
        "176"
       ]
      },
      {
       "output_type": "stream",
       "stream": "stdout",
       "text": [
        "\n",
        "177"
       ]
      },
      {
       "output_type": "stream",
       "stream": "stdout",
       "text": [
        "\n",
        "178"
       ]
      },
      {
       "output_type": "stream",
       "stream": "stdout",
       "text": [
        "\n",
        "179"
       ]
      },
      {
       "output_type": "stream",
       "stream": "stdout",
       "text": [
        "\n",
        "180"
       ]
      },
      {
       "output_type": "stream",
       "stream": "stdout",
       "text": [
        "\n",
        "181"
       ]
      },
      {
       "output_type": "stream",
       "stream": "stdout",
       "text": [
        "\n",
        "182"
       ]
      },
      {
       "output_type": "stream",
       "stream": "stdout",
       "text": [
        "\n",
        "183"
       ]
      },
      {
       "output_type": "stream",
       "stream": "stdout",
       "text": [
        "\n",
        "184"
       ]
      },
      {
       "output_type": "stream",
       "stream": "stdout",
       "text": [
        "\n",
        "185"
       ]
      },
      {
       "output_type": "stream",
       "stream": "stdout",
       "text": [
        "\n",
        "186"
       ]
      },
      {
       "output_type": "stream",
       "stream": "stdout",
       "text": [
        "\n",
        "187"
       ]
      },
      {
       "output_type": "stream",
       "stream": "stdout",
       "text": [
        "\n",
        "188"
       ]
      },
      {
       "output_type": "stream",
       "stream": "stdout",
       "text": [
        "\n",
        "189"
       ]
      },
      {
       "output_type": "stream",
       "stream": "stdout",
       "text": [
        "\n",
        "190"
       ]
      },
      {
       "output_type": "stream",
       "stream": "stdout",
       "text": [
        "\n",
        "191"
       ]
      },
      {
       "output_type": "stream",
       "stream": "stdout",
       "text": [
        "\n",
        "192"
       ]
      },
      {
       "output_type": "stream",
       "stream": "stdout",
       "text": [
        "\n",
        "193"
       ]
      },
      {
       "output_type": "stream",
       "stream": "stdout",
       "text": [
        "\n",
        "194"
       ]
      },
      {
       "output_type": "stream",
       "stream": "stdout",
       "text": [
        "\n",
        "195"
       ]
      },
      {
       "output_type": "stream",
       "stream": "stdout",
       "text": [
        "\n",
        "196"
       ]
      },
      {
       "output_type": "stream",
       "stream": "stdout",
       "text": [
        "\n",
        "197"
       ]
      },
      {
       "output_type": "stream",
       "stream": "stdout",
       "text": [
        "\n",
        "198"
       ]
      },
      {
       "output_type": "stream",
       "stream": "stdout",
       "text": [
        "\n",
        "199"
       ]
      },
      {
       "output_type": "stream",
       "stream": "stdout",
       "text": [
        "\n"
       ]
      }
     ],
     "prompt_number": 22
    },
    {
     "cell_type": "code",
     "collapsed": false,
     "input": [
      "plot(Properties_Beta[:,0],Properties_Beta[:,1],'b-')\n",
      "\n",
      "plot([0.4811922,0.4811922],[0,-5000],\"k-\", label=\"Temperatura Critica\")\n",
      "xlabel(r'$\\beta$')\n",
      "ylabel(\"Energia\")\n",
      "axis([0.0,2, -5100, -0])\n",
      "legend(loc=1)"
     ],
     "language": "python",
     "metadata": {},
     "outputs": [
      {
       "metadata": {},
       "output_type": "pyout",
       "prompt_number": 23,
       "text": [
        "<matplotlib.legend.Legend at 0x31079d0>"
       ]
      },
      {
       "metadata": {},
       "output_type": "display_data",
       "png": "[encoded data removed]",
       "text": [
        "<matplotlib.figure.Figure at 0x30ef510>"
       ]
      }
     ],
     "prompt_number": 23
    },
    {
     "cell_type": "code",
     "collapsed": false,
     "input": [
      "plot(Properties_Beta[:,0],Properties_Beta[:,2],'bo')\n",
      "plot([0.4811922,0.4811922],[1,-1],\"k-\", label=\"Temperatura Critica\")\n",
      "#plot([0.4811922,2.0],[1,1],\"b-\", label=\"Esperado\")\n",
      "#plot([0.4811922,2.0],[-1,-1],\"b-\")\n",
      "legend(loc=2)\n",
      "xlabel(r'$\\beta$')\n",
      "ylabel(\"Magnetizacion\")\n",
      "axis([0.0,2.0, -1.1, 1.1])"
     ],
     "language": "python",
     "metadata": {},
     "outputs": [
      {
       "metadata": {},
       "output_type": "pyout",
       "prompt_number": 26,
       "text": [
        "[0.0, 2.0, -1.1, 1.1]"
       ]
      },
      {
       "metadata": {},
       "output_type": "display_data",
       "png": "[encoded data removed]",
       "text": [
        "<matplotlib.figure.Figure at 0x3aed110>"
       ]
      }
     ],
     "prompt_number": 26
    },
    {
     "cell_type": "code",
     "collapsed": false,
     "input": [
      "plot(Properties_Beta[:,0],Properties_Beta[:,3],'b-o')\n",
      "xlabel(r'$\\beta$')\n",
      "ylabel(\"Suceptibilidad\")\n",
      "axis([0.00,2.0, -0.1, 1.1])\n",
      "plot([0.4811922,0.4811922],[1,-1],\"k-\", label=\"Temperatura Critica\")\n",
      "legend(loc=3)\n"
     ],
     "language": "python",
     "metadata": {},
     "outputs": [
      {
       "metadata": {},
       "output_type": "pyout",
       "prompt_number": 27,
       "text": [
        "<matplotlib.legend.Legend at 0x3fb1450>"
       ]
      },
      {
       "metadata": {},
       "output_type": "display_data",
       "png": "[encoded data removed]",
       "text": [
        "<matplotlib.figure.Figure at 0x2fe6250>"
       ]
      }
     ],
     "prompt_number": 27
    },
    {
     "cell_type": "code",
     "collapsed": false,
     "input": [
      "print Properties_Beta"
     ],
     "language": "python",
     "metadata": {},
     "outputs": [
      {
       "output_type": "stream",
       "stream": "stdout",
       "text": [
        "[[  0.00000000e+00  -4.50000000e+01   8.00000000e-03   1.00016805e+00]\n",
        " [  4.08163265e-02  -1.76000000e+02   2.56000000e-02   9.99872261e-01]\n",
        " [  8.16326531e-02  -3.76000000e+02   1.60000000e-03   1.00019878e+00]\n",
        " [  1.22448980e-01  -7.32000000e+02   2.48000000e-02   9.99892431e-01]\n",
        " [  1.63265306e-01  -7.78000000e+02  -3.76000000e-02   9.99492789e-01]\n",
        " [  2.04081633e-01  -1.03100000e+03   0.00000000e+00   1.00020006e+00]\n",
        " [  2.44897959e-01  -1.17300000e+03   8.00000000e-04   1.00019974e+00]\n",
        " [  2.85714286e-01  -1.58800000e+03  -1.44000000e-02   1.00009635e+00]\n",
        " [  3.26530612e-01  -2.09100000e+03   2.88000000e-02   9.99785171e-01]\n",
        " [  3.67346939e-01  -2.42700000e+03   1.86400000e-01   9.82670492e-01]\n",
        " [  4.08163265e-01  -2.87200000e+03  -2.56000000e-02   9.99872261e-01]\n",
        " [  4.48979592e-01  -3.36900000e+03   7.36000000e-02   9.97487360e-01]\n",
        " [  4.89795918e-01  -3.69700000e+03  -1.00800000e-01   9.95105750e-01]\n",
        " [  5.30612245e-01  -3.89000000e+03  -5.44000000e-02   9.98718987e-01]\n",
        " [  5.71428571e-01  -3.90700000e+03   6.08000000e-02   9.98349659e-01]\n",
        " [  6.12244898e-01  -4.35200000e+03  -6.64000000e-02   9.97992703e-01]\n",
        " [  6.53061224e-01  -4.14500000e+03   9.04000000e-02   9.96104779e-01]\n",
        " [  6.93877551e-01  -4.39600000e+03   4.80000000e-03   1.00018854e+00]\n",
        " [  7.34693878e-01  -4.34800000e+03  -1.22400000e-01   9.92679407e-01]\n",
        " [  7.75510204e-01  -4.31600000e+03  -1.80000000e-01   9.83863403e-01]\n",
        " [  8.16326531e-01  -4.32900000e+03  -2.40000000e-03   1.00019718e+00]\n",
        " [  8.57142857e-01  -4.66000000e+03   4.64000000e-01   8.86012419e-01]\n",
        " [  8.97959184e-01  -4.52000000e+03   1.15200000e-01   9.93541046e-01]\n",
        " [  9.38775510e-01  -4.43100000e+03  -9.92000000e-02   9.95266589e-01]\n",
        " [  9.79591837e-01  -4.65600000e+03   6.60000000e-01   7.51415897e-01]\n",
        " [  1.02040816e+00  -4.50800000e+03   2.18400000e-01   9.76054565e-01]\n",
        " [  1.06122449e+00  -4.44800000e+03   3.36000000e-02   9.99635308e-01]\n",
        " [  1.10204082e+00  -4.52000000e+03  -1.32800000e-01   9.91341144e-01]\n",
        " [  1.14285714e+00  -4.57200000e+03  -4.04000000e-01   9.14941991e-01]\n",
        " [  1.18367347e+00  -4.47600000e+03   2.72000000e-02   9.99829998e-01]\n",
        " [  1.22448980e+00  -4.53600000e+03  -4.61600000e-01   8.87265651e-01]\n",
        " [  1.26530612e+00  -4.59600000e+03  -3.72800000e-01   9.28097358e-01]\n",
        " [  1.30612245e+00  -4.50400000e+03   1.36000000e-02   1.00010756e+00]\n",
        " [  1.34693878e+00  -4.69200000e+03   6.27200000e-01   7.79014060e-01]\n",
        " [  1.38775510e+00  -4.50000000e+03   2.24800000e-01   9.74599866e-01]\n",
        " [  1.42857143e+00  -4.57200000e+03   4.01600000e-01   9.15998396e-01]\n",
        " [  1.46938776e+00  -4.59600000e+03  -3.81600000e-01   9.24512482e-01]\n",
        " [  1.51020408e+00  -4.54900000e+03  -1.73600000e-01   9.85013269e-01]\n",
        " [  1.55102041e+00  -4.56800000e+03   4.60000000e-01   8.88096552e-01]\n",
        " [  1.59183673e+00  -4.56000000e+03  -3.10400000e-01   9.50796217e-01]\n",
        " [  1.63265306e+00  -4.63600000e+03  -5.65600000e-01   8.24844705e-01]\n",
        " [  1.67346939e+00  -4.57200000e+03   4.40000000e-01   8.98177426e-01]\n",
        " [  1.71428571e+00  -4.40200000e+03  -1.10400000e-01   9.94086074e-01]\n",
        " [  1.75510204e+00  -4.57200000e+03   8.00000000e-04   1.00019974e+00]\n",
        " [  1.79591837e+00  -4.52900000e+03   3.14400000e-01   9.49480513e-01]\n",
        " [  1.83673469e+00  -4.68800000e+03  -3.87200000e-01   9.22180203e-01]\n",
        " [  1.87755102e+00  -4.48700000e+03   6.80000000e-02   9.97884918e-01]\n",
        " [  1.91836735e+00  -4.55200000e+03  -2.68000000e-01   9.63611654e-01]\n",
        " [  1.95918367e+00  -4.62800000e+03   3.00800000e-01   9.53878039e-01]\n",
        " [  2.00000000e+00  -4.50800000e+03   3.05600000e-01   9.52350476e-01]]\n"
       ]
      }
     ],
     "prompt_number": 21
    },
    {
     "cell_type": "code",
     "collapsed": false,
     "input": [
      "x = linspace(0.4812,0.48123,100)\n",
      "\n",
      "plot( x, 2*sinh(J*x), label=(r\"$2\\sinh(J\\beta)$\"))\n",
      "plot( x, x*0.000 +1.00000)\n",
      "title(\"Temperatura critica\")\n",
      "legend(loc=2)\n"
     ],
     "language": "python",
     "metadata": {},
     "outputs": [
      {
       "metadata": {},
       "output_type": "pyout",
       "prompt_number": 48,
       "text": [
        "<matplotlib.legend.Legend at 0x4d38b90>"
       ]
      },
      {
       "metadata": {},
       "output_type": "display_data",
       "png": "[encoded data removed]",
       "text": [
        "<matplotlib.figure.Figure at 0x548b610>"
       ]
      }
     ],
     "prompt_number": 48
    },
    {
     "cell_type": "code",
     "collapsed": false,
     "input": [
      "beta_crit = 0.4811922\n",
      "print 2*sinh( J*beta_crit) -1"
     ],
     "language": "python",
     "metadata": {},
     "outputs": [
      {
       "output_type": "stream",
       "stream": "stdout",
       "text": [
        "-4.38827747671e-05\n"
       ]
      }
     ],
     "prompt_number": 46
    },
    {
     "cell_type": "code",
     "collapsed": false,
     "input": [],
     "language": "python",
     "metadata": {},
     "outputs": []
    }
   ],
   "metadata": {}
  }
 ]
}