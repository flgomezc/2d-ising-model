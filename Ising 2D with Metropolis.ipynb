{
 "metadata": {
  "name": ""
 },
 "nbformat": 3,
 "nbformat_minor": 0,
 "worksheets": [
  {
   "cells": [
    {
     "cell_type": "heading",
     "level": 1,
     "metadata": {},
     "source": [
      "2D Ising Model"
     ]
    },
    {
     "cell_type": "markdown",
     "metadata": {},
     "source": [
      "Monte Carlo simulation of the 2D Ising Model using the Metropolis Algorithm"
     ]
    },
    {
     "cell_type": "code",
     "collapsed": false,
     "input": [
      "%pylab inline\n",
      "\n",
      "#################################################\n",
      "# First part:                                   #\n",
      "# Create a random configuration of spins in 2d  #\n",
      "#################################################\n",
      "\n",
      "J = 1.0\n",
      "Beta = 10\n",
      "N = 5  # Length of the grid\n",
      "spin=zeros([N,N],dtype=int)\n",
      "\n",
      "#Semilla del generador de n\u00fameros aleatorios\n",
      "#Randon numbers generator seed\n",
      "seed(0)\n",
      "\n",
      "\n",
      "for n in range(N):\n",
      "    for m in range(N):\n",
      "        spin[n,m]=(-1)**(int(2*random.random_sample()))\n",
      "        \n",
      "spin0 = spin\n",
      "        # Muestra la configuraci\u00f3n original\n",
      "print spin    \n",
      "imshow(spin)\n",
      "\n",
      "#################################################\n",
      "#                                               #\n",
      "#           Hamiltoniano del sistema            #\n",
      "#                                               #\n",
      "#################################################   "
     ],
     "language": "python",
     "metadata": {},
     "outputs": [
      {
       "output_type": "stream",
       "stream": "stdout",
       "text": [
        "Populating the interactive namespace from numpy and matplotlib\n",
        "[[-1 -1 -1 -1  1]\n",
        " [-1  1 -1 -1  1]\n",
        " [-1 -1 -1 -1  1]\n",
        " [ 1  1 -1 -1 -1]\n",
        " [-1 -1  1 -1  1]]\n"
       ]
      },
      {
       "metadata": {},
       "output_type": "pyout",
       "prompt_number": 1,
       "text": [
        "<matplotlib.image.AxesImage at 0x3e97690>"
       ]
      },
      {
       "metadata": {},
       "output_type": "display_data",
       "png": "[encoded data removed]",
       "text": [
        "<matplotlib.figure.Figure at 0x2d05d90>"
       ]
      }
     ],
     "prompt_number": 1
    },
    {
     "cell_type": "markdown",
     "metadata": {},
     "source": [
      "$H = -J \\sum_{<i,j>} S_i S_j$\n",
      "\n",
      "donde $<i,j>$ es la sumatoria sobre i con sus j vecinos m\u00e1s cercanos.\n",
      "Como es una red cuadrada, ser\u00e1n los vecinos de arriba, abajo, derecha e izquierda.\n",
      "\n",
      "Para S[n,m] esos vecinos ser\u00e1n S[n+1,m], S[n-1,m], S[n,m+1], S[n,m-1]. Con condiciones de frontera peri\u00f3dicas hay que tener en cuenta los casos especiales en los bordes."
     ]
    },
    {
     "cell_type": "code",
     "collapsed": false,
     "input": [
      "def Hamiltonian(matrix):\n",
      "    Hamilton = 0\n",
      "    \n",
      "    for n in range(N):\n",
      "        for m in range(N):\n",
      "            \n",
      "            if n == 0: #Condici\u00f3n de borde\n",
      "                Hamilton += -J* matrix[n,m]* matrix[N-1,m]\n",
      "            else:    #Normal\n",
      "                Hamilton += -J* matrix[n,m]* matrix[n-1,m]\n",
      "            \n",
      "            if m == 0: #Condici\u00f3n de borde\n",
      "                Hamilton += -J* matrix[n,m]* matrix[n,N-1]\n",
      "            else:    #Normal\n",
      "                Hamilton += -J* matrix[n,m]* matrix[n,m-1]\n",
      "            \n",
      "            if n+1 == N:#Condici\u00f3n de borde\n",
      "                Hamilton += -J* matrix[n,m]* matrix[0,m]\n",
      "            else:    #Normal\n",
      "                Hamilton += -J* matrix[n,m]* matrix[n+1,m]\n",
      "                \n",
      "            if m+1 == N:#Condici\u00f3n de borde\n",
      "                Hamilton += -J* matrix[n,m]* matrix[0,m]\n",
      "            else:    #Normal\n",
      "                Hamilton += -J* matrix[n,m]* matrix[n,m+1]\n",
      "                \n",
      "    return Hamilton*0.5"
     ],
     "language": "python",
     "metadata": {},
     "outputs": [],
     "prompt_number": 2
    },
    {
     "cell_type": "code",
     "collapsed": false,
     "input": [
      "STEPS = 1 # N\u00famero de veces que se repetir\u00e1 el ciclo\n",
      "\n",
      "#################################################\n",
      "# Ciclo de cambios de spin                      #\n",
      "# random.randint(a,b) genera un n\u00famero entero   #\n",
      "# aleatorio entre a (incluido) y b (excluido)   #\n",
      "# con probabilidad uniforme                     #\n",
      "#################################################\n",
      "\n",
      "for counter in range(STEPS):\n",
      "    \n",
      "    # Selecciona un punto (n,m) de la red.\n",
      "    n = random.randint(0,N)\n",
      "    m = random.randint(0,N)\n",
      "    print n,m\n",
      "    # Calcula el Hamiltoniano del sistema tal y como est\u00e1\n",
      "    H_0 = Hamiltonian(spin)\n",
      "    print \"H_0\", H_0\n",
      "    # invierte el spin\n",
      "    spin[n,m] *= -1\n",
      "    print spin\n",
      "    # Calcula el Hamiltoniano del sistema si se cambia el\n",
      "    # spin\n",
      "    H_mod = Hamiltonian(spin)\n",
      "    print \"H_mod\", H_mod\n",
      "\n",
      "    # Calcula el cambio en el hamiltoniano si se invierte\n",
      "    # el spin n,m\n",
      "    Delta_Hamilton = H_0 - H_mod\n",
      "    print \"Delta\", Delta_Hamilton\n",
      "    # Condici\u00f3n que aceptar\u00eda el cambio de inmediato\n",
      "    if Delta_Hamilton <= 0:\n",
      "        break\n",
      "    # Calcular entonces la probabilidad de aceptarlo\n",
      "    else:\n",
      "        # Escoger un n\u00famero aleatorio entre [0,1)\n",
      "        p = random.random_sample()\n",
      "        # Condici\u00f3n que acepta el cambio de spin\n",
      "        if p < exp(-Beta*Delta_Hamilton):\n",
      "            break\n",
      "        # Condici\u00f3n que rechaza el cambio de spin\n",
      "        else:\n",
      "            spin[n,m] = -spin[n,m]\n",
      "\n",
      "print spin"
     ],
     "language": "python",
     "metadata": {},
     "outputs": [
      {
       "output_type": "stream",
       "stream": "stdout",
       "text": [
        "0 1\n",
        "H_0 -6.0\n",
        "[[-1  1 -1 -1  1]\n",
        " [-1  1 -1 -1  1]\n",
        " [-1 -1 -1 -1  1]\n",
        " [ 1  1 -1 -1 -1]\n",
        " [-1 -1  1 -1  1]]\n",
        "H_mod -2.0\n",
        "Delta -4.0\n",
        "[[-1  1 -1 -1  1]\n",
        " [-1  1 -1 -1  1]\n",
        " [-1 -1 -1 -1  1]\n",
        " [ 1  1 -1 -1 -1]\n",
        " [-1 -1  1 -1  1]]\n"
       ]
      }
     ],
     "prompt_number": 3
    },
    {
     "cell_type": "code",
     "collapsed": false,
     "input": [
      "imshow(spin)"
     ],
     "language": "python",
     "metadata": {},
     "outputs": [
      {
       "metadata": {},
       "output_type": "pyout",
       "prompt_number": 4,
       "text": [
        "<matplotlib.image.AxesImage at 0x40dca90>"
       ]
      },
      {
       "metadata": {},
       "output_type": "display_data",
       "png": "[encoded data removed]",
       "text": [
        "<matplotlib.figure.Figure at 0x3d53090>"
       ]
      }
     ],
     "prompt_number": 4
    },
    {
     "cell_type": "code",
     "collapsed": false,
     "input": [
      "imshow(spin0)"
     ],
     "language": "python",
     "metadata": {},
     "outputs": [
      {
       "metadata": {},
       "output_type": "pyout",
       "prompt_number": 5,
       "text": [
        "<matplotlib.image.AxesImage at 0x42eb090>"
       ]
      },
      {
       "metadata": {},
       "output_type": "display_data",
       "png": "[encoded data removed]",
       "text": [
        "<matplotlib.figure.Figure at 0x3ec8310>"
       ]
      }
     ],
     "prompt_number": 5
    },
    {
     "cell_type": "code",
     "collapsed": false,
     "input": [
      "spin = zeros([N,N])\n",
      "print spin"
     ],
     "language": "python",
     "metadata": {},
     "outputs": [
      {
       "output_type": "stream",
       "stream": "stdout",
       "text": [
        "[[ 0.  0.  0.  0.  0.]\n",
        " [ 0.  0.  0.  0.  0.]\n",
        " [ 0.  0.  0.  0.  0.]\n",
        " [ 0.  0.  0.  0.  0.]\n",
        " [ 0.  0.  0.  0.  0.]]\n"
       ]
      }
     ],
     "prompt_number": 6
    },
    {
     "cell_type": "code",
     "collapsed": false,
     "input": [
      "spin[1,0]=1\n",
      "print spin"
     ],
     "language": "python",
     "metadata": {},
     "outputs": [
      {
       "output_type": "stream",
       "stream": "stdout",
       "text": [
        "[[ 0.  0.  0.  0.  0.]\n",
        " [ 1.  0.  0.  0.  0.]\n",
        " [ 0.  0.  0.  0.  0.]\n",
        " [ 0.  0.  0.  0.  0.]\n",
        " [ 0.  0.  0.  0.  0.]]\n"
       ]
      }
     ],
     "prompt_number": 15
    },
    {
     "cell_type": "code",
     "collapsed": false,
     "input": [],
     "language": "python",
     "metadata": {},
     "outputs": []
    }
   ],
   "metadata": {}
  }
 ]
}